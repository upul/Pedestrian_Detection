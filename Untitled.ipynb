{
 "cells": [
  {
   "cell_type": "code",
   "execution_count": 1,
   "metadata": {},
   "outputs": [],
   "source": [
    "import numpy as np\n",
    "import cv2\n",
    "import re\n",
    "\n",
    "import matplotlib.pyplot as plt\n",
    "import matplotlib.lines as line "
   ]
  },
  {
   "cell_type": "code",
   "execution_count": 3,
   "metadata": {},
   "outputs": [
    {
     "name": "stdout",
     "output_type": "stream",
     "text": [
      "['178', '256', '345']\n"
     ]
    },
    {
     "ename": "IndexError",
     "evalue": "list index out of range",
     "output_type": "error",
     "traceback": [
      "\u001b[1;31m---------------------------------------------------------------------------\u001b[0m",
      "\u001b[1;31mIndexError\u001b[0m                                Traceback (most recent call last)",
      "\u001b[1;32m<ipython-input-3-5dc2d5518117>\u001b[0m in \u001b[0;36m<module>\u001b[1;34m()\u001b[0m\n\u001b[0;32m     11\u001b[0m             \u001b[1;31m#print(int(a[0]))\u001b[0m\u001b[1;33m\u001b[0m\u001b[1;33m\u001b[0m\u001b[0m\n\u001b[0;32m     12\u001b[0m             \u001b[1;31m#assert len(a) == 4\u001b[0m\u001b[1;33m\u001b[0m\u001b[1;33m\u001b[0m\u001b[0m\n\u001b[1;32m---> 13\u001b[1;33m             \u001b[0mcoordinates\u001b[0m\u001b[1;33m.\u001b[0m\u001b[0mappend\u001b[0m\u001b[1;33m(\u001b[0m\u001b[1;33m[\u001b[0m\u001b[1;33m(\u001b[0m\u001b[0mint\u001b[0m\u001b[1;33m(\u001b[0m\u001b[0ma\u001b[0m\u001b[1;33m[\u001b[0m\u001b[1;36m0\u001b[0m\u001b[1;33m]\u001b[0m\u001b[1;33m)\u001b[0m\u001b[1;33m,\u001b[0m \u001b[0mint\u001b[0m\u001b[1;33m(\u001b[0m\u001b[0ma\u001b[0m\u001b[1;33m[\u001b[0m\u001b[1;36m1\u001b[0m\u001b[1;33m]\u001b[0m\u001b[1;33m)\u001b[0m\u001b[1;33m)\u001b[0m\u001b[1;33m,\u001b[0m \u001b[1;33m(\u001b[0m\u001b[0mint\u001b[0m\u001b[1;33m(\u001b[0m\u001b[0ma\u001b[0m\u001b[1;33m[\u001b[0m\u001b[1;36m2\u001b[0m\u001b[1;33m]\u001b[0m\u001b[1;33m)\u001b[0m\u001b[1;33m,\u001b[0m \u001b[0mint\u001b[0m\u001b[1;33m(\u001b[0m\u001b[0ma\u001b[0m\u001b[1;33m[\u001b[0m\u001b[1;36m3\u001b[0m\u001b[1;33m]\u001b[0m\u001b[1;33m)\u001b[0m\u001b[1;33m)\u001b[0m\u001b[1;33m]\u001b[0m\u001b[1;33m)\u001b[0m\u001b[1;33m\u001b[0m\u001b[0m\n\u001b[0m\u001b[0;32m     14\u001b[0m     \u001b[0mboxes\u001b[0m\u001b[1;33m[\u001b[0m\u001b[1;34m'FudanPed00074'\u001b[0m\u001b[1;33m]\u001b[0m \u001b[1;33m=\u001b[0m \u001b[0mcoordinates\u001b[0m\u001b[1;33m\u001b[0m\u001b[0m\n\u001b[0;32m     15\u001b[0m \u001b[0mprint\u001b[0m\u001b[1;33m(\u001b[0m\u001b[0mboxes\u001b[0m\u001b[1;33m)\u001b[0m\u001b[1;33m\u001b[0m\u001b[0m\n",
      "\u001b[1;31mIndexError\u001b[0m: list index out of range"
     ]
    }
   ],
   "source": [
    "regex = r\"[0-9]{3}\"\n",
    "\n",
    "boxes = {}\n",
    "with open('./FudanPed00074.txt') as f:\n",
    "    coordinates = []\n",
    "    for line in f:   \n",
    "        #print(line)\n",
    "        if 'Bounding box for object' in line:\n",
    "            a = re.findall(regex, line)\n",
    "            print(a)\n",
    "            #print(int(a[0]))\n",
    "            #assert len(a) == 4\n",
    "            coordinates.append([(int(a[0]), int(a[1])), (int(a[2]), int(a[3]))])\n",
    "    boxes['FudanPed00074'] = coordinates\n",
    "print(boxes)"
   ]
  },
  {
   "cell_type": "code",
   "execution_count": null,
   "metadata": {
    "collapsed": true
   },
   "outputs": [],
   "source": [
    "def draw_bbox(image, coordinates):\n",
    "    #assert len(coordinates) == 2  \n",
    "    #print(coordinates[0])\n",
    "    for coordinate in coordinates:\n",
    "        print(coordinate)\n",
    "        cv2.rectangle(image, coordinate[0], coordinate[1], color=(125, 0, 0), thickness=2)"
   ]
  },
  {
   "cell_type": "code",
   "execution_count": null,
   "metadata": {},
   "outputs": [],
   "source": [
    "image = plt.imread('./FudanPed00074.png')\n",
    "size = image[:, :, 0].shape\n",
    "print(size)"
   ]
  },
  {
   "cell_type": "code",
   "execution_count": null,
   "metadata": {},
   "outputs": [],
   "source": [
    "unites_per_dir = 8\n",
    "box_x_size = size[1] // unites_per_dir\n",
    "box_y_size = size[0] // unites_per_dir\n",
    "print(box_x_size)\n",
    "print(box_y_size)\n",
    "\n",
    "\n",
    "def draw_mesh(img, unites_per_dir):\n",
    "    size = image[:, :, 0].shape\n",
    "    for i in range(unites_per_dir):\n",
    "        cv2.rectangle(image, (i*box_x_size, 0) , (i*box_x_size, size[1]), color=(0, 0, 100), thickness=3)\n",
    "        \n",
    "    for i in range(unites_per_dir):\n",
    "        cv2.rectangle(image, (0, i*box_y_size) , (size[0], i*box_y_size), color=(0, 0, 100), thickness=3)\n",
    "        \n",
    "    co = []\n",
    "    for i in range(unites_per_dir): # x\n",
    "        for j in range(unites_per_dir): # y\n",
    "            top_left = (i*box_x_size, j*box_y_size)\n",
    "            bot_right = (i*box_x_size + box_x_size, j*box_y_size + box_y_size)\n",
    "            if bot_right[0] <= size[1] and  bot_right[1] <= size[0]:\n",
    "                co.append((top_left, bot_right))\n",
    "            \n",
    "    for c in co:\n",
    "        c0 = c[0]\n",
    "        c1 = c[1]\n",
    "        cv2.circle(image, c0, 5, (200, 0, 0), thickness=2)\n",
    "        cv2.circle(image, c1, 5, (200, 0, 0), thickness=2)\n",
    "        \n",
    "    return co\n",
    "            \n",
    "c = draw_mesh(image, unites_per_dir)          "
   ]
  },
  {
   "cell_type": "code",
   "execution_count": null,
   "metadata": {},
   "outputs": [],
   "source": [
    "def do_overlap(grid, box):\n",
    "    if grid[1][0] < box[0][0] or grid[0][0] > box[1][0]:\n",
    "        return False\n",
    "    if grid[1][1] < box[0][1] or grid[0][1] > box[1][1]:\n",
    "        return False\n",
    "    return True"
   ]
  },
  {
   "cell_type": "code",
   "execution_count": null,
   "metadata": {},
   "outputs": [],
   "source": [
    "   \n",
    "def f(grids, boxes):\n",
    "    output = {}\n",
    "    for box in boxes:\n",
    "        box_top_left = box[0]\n",
    "        box_bot_right = box[1]\n",
    "        for grid in grids:\n",
    "            grid_top_left = grid[0]\n",
    "            grid_bot_right = grid[1]\n",
    "            \n",
    "            #if grid in output and output[grid] == 1:\n",
    "                #continue\n",
    "                \n",
    "            #if (box_top_left[0] <= grid_top_left[0] and box_bot_right[0] >= grid_bot_right[0]) and \\\n",
    "                #(box_top_left[1] <= grid_top_left[1] and box_bot_right[1] >= grid_bot_right[1]):\n",
    "                    #output[grid] = 1\n",
    "            #if is_in_left(grid_top_left, grid_bot_right, box_top_left):\n",
    "                #output[grid] = 1\n",
    "            #elif is_in_left(grid_top_left, grid_bot_right, box_bot_right):\n",
    "                #output[grid] = 1\n",
    "            #else:\n",
    "                #output[grid] = 0\n",
    "            if do_overlap(grid, box):\n",
    "                output[grid] = 1\n",
    "    return output            \n",
    "        \n",
    "\n",
    "out = f(c, boxes['FudanPed00074'])\n",
    "#print(out)"
   ]
  },
  {
   "cell_type": "code",
   "execution_count": null,
   "metadata": {},
   "outputs": [],
   "source": [
    "counter = 0\n",
    "for i in out:\n",
    "    if out[i] == 1:\n",
    "        counter += 1\n",
    "print(counter)\n",
    "        "
   ]
  },
  {
   "cell_type": "code",
   "execution_count": null,
   "metadata": {
    "collapsed": true
   },
   "outputs": [],
   "source": [
    "def fill(image, data):\n",
    "    for key in data:\n",
    "        val = data[key]\n",
    "        if val == 1:\n",
    "            cv2.rectangle(image, key[0], key[1], (5,0,0), -1)"
   ]
  },
  {
   "cell_type": "code",
   "execution_count": null,
   "metadata": {},
   "outputs": [],
   "source": [
    "#plt.plot(0, 0, 100,100)\n",
    "#plt.plot([70, 70], [100, 250], 'k-', lw=2)\n",
    "#cv2.line(image, (253, 697), (585,456), color=[255,0,0], thickness=2)\n",
    "draw_bbox(image, boxes['FudanPed00001'])\n",
    "c = draw_mesh(image, unites_per_dir)\n",
    "fill(image, out)\n",
    "plt.imshow(image)\n",
    "\n",
    "plt.show()"
   ]
  },
  {
   "cell_type": "code",
   "execution_count": null,
   "metadata": {
    "collapsed": true
   },
   "outputs": [],
   "source": []
  },
  {
   "cell_type": "code",
   "execution_count": null,
   "metadata": {
    "collapsed": true
   },
   "outputs": [],
   "source": []
  }
 ],
 "metadata": {
  "kernelspec": {
   "display_name": "Python 3",
   "language": "python",
   "name": "python3"
  },
  "language_info": {
   "codemirror_mode": {
    "name": "ipython",
    "version": 3
   },
   "file_extension": ".py",
   "mimetype": "text/x-python",
   "name": "python",
   "nbconvert_exporter": "python",
   "pygments_lexer": "ipython3",
   "version": "3.5.2"
  }
 },
 "nbformat": 4,
 "nbformat_minor": 2
}
